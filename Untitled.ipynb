{
 "cells": [
  {
   "cell_type": "code",
   "execution_count": 1,
   "id": "earned-custom",
   "metadata": {},
   "outputs": [],
   "source": [
    "import pandas as pd"
   ]
  },
  {
   "cell_type": "code",
   "execution_count": 51,
   "id": "generic-large",
   "metadata": {},
   "outputs": [],
   "source": [
    "df = pd.read_csv('pricesCuAgAu.csv',delimiter=';')\n",
    "df = df[df.columns[[0,3]]] # selecting only the Ag price"
   ]
  },
  {
   "cell_type": "code",
   "execution_count": 52,
   "id": "sexual-conspiracy",
   "metadata": {},
   "outputs": [],
   "source": [
    "df = df.rename(columns={df.columns[1]: \"ag_price\"})\n",
    "df = df.dropna()"
   ]
  },
  {
   "cell_type": "code",
   "execution_count": 53,
   "id": "capable-horror",
   "metadata": {},
   "outputs": [],
   "source": [
    "df['ag_price'] = df['ag_price'].str.replace('$','',regex=False)\n",
    "df['ag_price'] = df['ag_price'].astype(float)"
   ]
  },
  {
   "cell_type": "code",
   "execution_count": 61,
   "id": "appointed-hours",
   "metadata": {},
   "outputs": [],
   "source": [
    "df['Date'] = pd.to_datetime(df['Date'])"
   ]
  },
  {
   "cell_type": "code",
   "execution_count": 63,
   "id": "polyphonic-expansion",
   "metadata": {},
   "outputs": [
    {
     "data": {
      "text/plain": [
       "array([[<AxesSubplot:title={'center':'ag_price'}>]], dtype=object)"
      ]
     },
     "execution_count": 63,
     "metadata": {},
     "output_type": "execute_result"
    },
    {
     "data": {
      "image/png": "[encoded data removed]",
      "text/plain": [
       "<Figure size 432x288 with 1 Axes>"
      ]
     },
     "metadata": {
      "needs_background": "light"
     },
     "output_type": "display_data"
    }
   ],
   "source": [
    "df.hist(column='ag_price')"
   ]
  },
  {
   "cell_type": "code",
   "execution_count": null,
   "id": "hispanic-contract",
   "metadata": {},
   "outputs": [],
   "source": []
  }
 ],
 "metadata": {
  "kernelspec": {
   "display_name": "Python 3",
   "language": "python",
   "name": "python3"
  },
  "language_info": {
   "codemirror_mode": {
    "name": "ipython",
    "version": 3
   },
   "file_extension": ".py",
   "mimetype": "text/x-python",
   "name": "python",
   "nbconvert_exporter": "python",
   "pygments_lexer": "ipython3",
   "version": "3.9.0"
  }
 },
 "nbformat": 4,
 "nbformat_minor": 5
}
